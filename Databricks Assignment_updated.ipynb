{
 "cells": [
  {
   "cell_type": "markdown",
   "metadata": {
    "application/vnd.databricks.v1+cell": {
     "cellMetadata": {
      "byteLimit": 2048000,
      "rowLimit": 10000
     },
     "inputWidgets": {},
     "nuid": "dc7f9022-a526-4a1a-a72a-36fc751ab753",
     "showTitle": false,
     "tableResultSettingsMap": {},
     "title": ""
    }
   },
   "source": [
    "Define the Table List"
   ]
  },
  {
   "cell_type": "code",
   "execution_count": 0,
   "metadata": {
    "application/vnd.databricks.v1+cell": {
     "cellMetadata": {
      "byteLimit": 2048000,
      "rowLimit": 10000
     },
     "inputWidgets": {},
     "nuid": "f20d778b-9e2e-4978-bb34-3c727f5aa58a",
     "showTitle": false,
     "tableResultSettingsMap": {},
     "title": ""
    }
   },
   "outputs": [],
   "source": [
    "# List of tables and their primary key columns\n",
    "tables = [\n",
    "    {\"name\": \"media_customer_reviews\", \"key\": \"franchiseID\", \"path\": \"/FileStore/tables/media_customer_reviews.parquet\"},\n",
    "    {\"name\": \"media_gold_reviews_chunked\", \"key\": \"franchiseID\", \"path\": \"/FileStore/tables/media_gold_reviews_chunked.parquet\"},\n",
    "    {\"name\": \"sales_customers\", \"key\": \"customerID\", \"path\": \"/FileStore/tables/sales_customers.parquet\"},\n",
    "    {\"name\": \"sales_franchises\", \"key\": \"franchiseID\", \"path\": \"/FileStore/tables/sales_franchises.parquet\"},\n",
    "    {\"name\": \"sales_suppliers\", \"key\": \"supplierID\", \"path\": \"/FileStore/tables/sales_suppliers.parquet\"},\n",
    "    {\"name\": \"sales_transactions\", \"key\": \"transactionID\", \"path\": \"/FileStore/tables/sales_transactions.parquet\"}\n",
    "]"
   ]
  },
  {
   "cell_type": "markdown",
   "metadata": {
    "application/vnd.databricks.v1+cell": {
     "cellMetadata": {
      "byteLimit": 2048000,
      "rowLimit": 10000
     },
     "inputWidgets": {},
     "nuid": "edb9cbc9-0438-4faf-b019-156c6a1ac12e",
     "showTitle": false,
     "tableResultSettingsMap": {},
     "title": ""
    }
   },
   "source": [
    "Create Schemas - Bronze, Silver & Gold"
   ]
  },
  {
   "cell_type": "code",
   "execution_count": 0,
   "metadata": {
    "application/vnd.databricks.v1+cell": {
     "cellMetadata": {
      "byteLimit": 2048000,
      "implicitDf": true,
      "rowLimit": 10000
     },
     "inputWidgets": {},
     "nuid": "e4289874-ebe9-4cf0-af9f-5dc24a0603e4",
     "showTitle": false,
     "tableResultSettingsMap": {},
     "title": ""
    }
   },
   "outputs": [
    {
     "output_type": "display_data",
     "data": {
      "text/html": [
       "<style scoped>\n",
       "  .table-result-container {\n",
       "    max-height: 300px;\n",
       "    overflow: auto;\n",
       "  }\n",
       "  table, th, td {\n",
       "    border: 1px solid black;\n",
       "    border-collapse: collapse;\n",
       "  }\n",
       "  th, td {\n",
       "    padding: 5px;\n",
       "  }\n",
       "  th {\n",
       "    text-align: left;\n",
       "  }\n",
       "</style><div class='table-result-container'><table class='table-result'><thead style='background-color: white'><tr></tr></thead><tbody></tbody></table></div>"
      ]
     },
     "metadata": {
      "application/vnd.databricks.v1+output": {
       "addedWidgets": {},
       "aggData": [],
       "aggError": "",
       "aggOverflow": false,
       "aggSchema": [],
       "aggSeriesLimitReached": false,
       "aggType": "",
       "arguments": {},
       "columnCustomDisplayInfos": {},
       "data": [],
       "datasetInfos": [],
       "dbfsResultPath": null,
       "isJsonSchema": true,
       "metadata": {},
       "overflow": false,
       "plotOptions": {
        "customPlotOptions": {},
        "displayType": "table",
        "pivotAggregation": null,
        "pivotColumns": null,
        "xColumns": null,
        "yColumns": null
       },
       "removedWidgets": [],
       "schema": [],
       "type": "table"
      }
     },
     "output_type": "display_data"
    }
   ],
   "source": [
    "%sql\n",
    "CREATE SCHEMA IF NOT EXISTS bronze;\n",
    "CREATE SCHEMA IF NOT EXISTS silver;\n",
    "CREATE SCHEMA IF NOT EXISTS gold;"
   ]
  },
  {
   "cell_type": "markdown",
   "metadata": {
    "application/vnd.databricks.v1+cell": {
     "cellMetadata": {
      "byteLimit": 2048000,
      "rowLimit": 10000
     },
     "inputWidgets": {},
     "nuid": "71d125c1-d0bb-4595-a963-c60d623cc34d",
     "showTitle": false,
     "tableResultSettingsMap": {},
     "title": ""
    }
   },
   "source": [
    "Deduplication Function"
   ]
  },
  {
   "cell_type": "code",
   "execution_count": 0,
   "metadata": {
    "application/vnd.databricks.v1+cell": {
     "cellMetadata": {
      "byteLimit": 2048000,
      "rowLimit": 10000
     },
     "inputWidgets": {},
     "nuid": "0a8e3825-6daf-43d9-a75b-9e2badf68ac5",
     "showTitle": false,
     "tableResultSettingsMap": {},
     "title": ""
    }
   },
   "outputs": [],
   "source": [
    "from pyspark.sql.window import Window\n",
    "from pyspark.sql.functions import row_number, col\n",
    " \n",
    "def deduplicate_by_key(df, key, order_col=None):\n",
    "    if order_col and order_col in df.columns:\n",
    "        window_spec = Window.partitionBy(key).orderBy(col(order_col).desc())\n",
    "    else:\n",
    "        window_spec = Window.partitionBy(key).orderBy(key)\n",
    "    return df.withColumn(\"rn\", row_number().over(window_spec)).filter(\"rn = 1\").drop(\"rn\")"
   ]
  },
  {
   "cell_type": "markdown",
   "metadata": {
    "application/vnd.databricks.v1+cell": {
     "cellMetadata": {
      "byteLimit": 2048000,
      "rowLimit": 10000
     },
     "inputWidgets": {},
     "nuid": "60a5fd26-6bc8-41ea-9431-e68a4912d7b8",
     "showTitle": false,
     "tableResultSettingsMap": {},
     "title": ""
    }
   },
   "source": [
    "Dynamic Bronze -> Silver -> Gold ETL Function"
   ]
  },
  {
   "cell_type": "code",
   "execution_count": 0,
   "metadata": {
    "application/vnd.databricks.v1+cell": {
     "cellMetadata": {
      "byteLimit": 2048000,
      "rowLimit": 10000
     },
     "inputWidgets": {},
     "nuid": "7fd5ace5-31a3-4798-8e1f-f0ded5fb5d8b",
     "showTitle": false,
     "tableResultSettingsMap": {},
     "title": ""
    }
   },
   "outputs": [],
   "source": [
    "def run_etl_pipeline(table_name: str, key: str, file_path: str):\n",
    "    bronze = f\"bronze.{table_name}\"\n",
    "    silver = f\"silver.{table_name}\"\n",
    "    \n",
    "    # Load raw data\n",
    "    df = spark.read.parquet(file_path)\n",
    "    \n",
    "    # Write Bronze table\n",
    "    df.write.format(\"delta\").mode(\"overwrite\").saveAsTable(bronze)\n",
    "    \n",
    "    # Deduplicate before merge\n",
    "    df_dedup = deduplicate_by_key(df, key, order_col=\"last_updated\" if \"last_updated\" in df.columns else None)\n",
    "    \n",
    "    # Create Silver table if it doesn't exist\n",
    "    if not spark.catalog.tableExists(silver):\n",
    "        df_dedup.write.format(\"delta\").mode(\"overwrite\").saveAsTable(silver)\n",
    "        return\n",
    "    \n",
    "    # Get dynamic column list\n",
    "    columns = df.columns\n",
    "    update_expr = \", \".join([f\"target.{c} = source.{c}\" for c in columns])\n",
    "    insert_cols = \", \".join(columns)\n",
    "    insert_vals = \", \".join([f\"source.{c}\" for c in columns])\n",
    "    \n",
    "    # Perform SCD Type 1 Merge\n",
    "    merge_sql = f\"\"\"\n",
    "    MERGE INTO {silver} AS target\n",
    "    USING (SELECT * FROM bronze.{table_name}) AS source\n",
    "    ON target.{key} = source.{key}\n",
    "    WHEN MATCHED THEN UPDATE SET {update_expr}\n",
    "    WHEN NOT MATCHED THEN INSERT ({insert_cols}) VALUES ({insert_vals})\n",
    "    \"\"\"\n",
    "    spark.sql(merge_sql)"
   ]
  },
  {
   "cell_type": "markdown",
   "metadata": {
    "application/vnd.databricks.v1+cell": {
     "cellMetadata": {
      "byteLimit": 2048000,
      "rowLimit": 10000
     },
     "inputWidgets": {},
     "nuid": "122d3d45-eed5-4acd-85e3-7adc18f2c843",
     "showTitle": false,
     "tableResultSettingsMap": {},
     "title": ""
    }
   },
   "source": [
    "Loop through All Tables"
   ]
  },
  {
   "cell_type": "code",
   "execution_count": 0,
   "metadata": {
    "application/vnd.databricks.v1+cell": {
     "cellMetadata": {
      "byteLimit": 2048000,
      "rowLimit": 10000
     },
     "inputWidgets": {},
     "nuid": "54a2b6d5-c4c5-4a4c-a0fa-96f72000e0cc",
     "showTitle": false,
     "tableResultSettingsMap": {},
     "title": ""
    }
   },
   "outputs": [],
   "source": [
    "for t in tables:\n",
    "    run_etl_pipeline(t[\"name\"], t[\"key\"], t[\"path\"])"
   ]
  },
  {
   "cell_type": "markdown",
   "metadata": {
    "application/vnd.databricks.v1+cell": {
     "cellMetadata": {
      "byteLimit": 2048000,
      "rowLimit": 10000
     },
     "inputWidgets": {},
     "nuid": "2e105529-bd55-412f-979b-62d8efc1041e",
     "showTitle": false,
     "tableResultSettingsMap": {},
     "title": ""
    }
   },
   "source": [
    "Query the Gold Layer"
   ]
  },
  {
   "cell_type": "code",
   "execution_count": 0,
   "metadata": {
    "application/vnd.databricks.v1+cell": {
     "cellMetadata": {
      "byteLimit": 2048000,
      "implicitDf": true,
      "rowLimit": 10000
     },
     "inputWidgets": {},
     "nuid": "0cde2e73-faaa-4d8d-bd52-39bc923b851f",
     "showTitle": false,
     "tableResultSettingsMap": {},
     "title": ""
    }
   },
   "outputs": [
    {
     "output_type": "display_data",
     "data": {
      "text/html": [
       "<style scoped>\n",
       "  .table-result-container {\n",
       "    max-height: 300px;\n",
       "    overflow: auto;\n",
       "  }\n",
       "  table, th, td {\n",
       "    border: 1px solid black;\n",
       "    border-collapse: collapse;\n",
       "  }\n",
       "  th, td {\n",
       "    padding: 5px;\n",
       "  }\n",
       "  th {\n",
       "    text-align: left;\n",
       "  }\n",
       "</style><div class='table-result-container'><table class='table-result'><thead style='background-color: white'><tr><th>product</th><th>total_quantity_sold</th></tr></thead><tbody><tr><td>Golden Gate Ginger</td><td>3865</td></tr><tr><td>Outback Oatmeal</td><td>3733</td></tr><tr><td>Austin Almond Biscotti</td><td>3716</td></tr><tr><td>Tokyo Tidbits</td><td>3662</td></tr><tr><td>Pearly Pies</td><td>3595</td></tr><tr><td>Orchard Oasis</td><td>3586</td></tr></tbody></table></div>"
      ]
     },
     "metadata": {
      "application/vnd.databricks.v1+output": {
       "addedWidgets": {},
       "aggData": [],
       "aggError": "",
       "aggOverflow": false,
       "aggSchema": [],
       "aggSeriesLimitReached": false,
       "aggType": "",
       "arguments": {},
       "columnCustomDisplayInfos": {},
       "data": [
        [
         "Golden Gate Ginger",
         3865
        ],
        [
         "Outback Oatmeal",
         3733
        ],
        [
         "Austin Almond Biscotti",
         3716
        ],
        [
         "Tokyo Tidbits",
         3662
        ],
        [
         "Pearly Pies",
         3595
        ],
        [
         "Orchard Oasis",
         3586
        ]
       ],
       "datasetInfos": [],
       "dbfsResultPath": null,
       "isJsonSchema": true,
       "metadata": {},
       "overflow": false,
       "plotOptions": {
        "customPlotOptions": {},
        "displayType": "table",
        "pivotAggregation": null,
        "pivotColumns": null,
        "xColumns": null,
        "yColumns": null
       },
       "removedWidgets": [],
       "schema": [
        {
         "metadata": "{}",
         "name": "product",
         "type": "\"string\""
        },
        {
         "metadata": "{}",
         "name": "total_quantity_sold",
         "type": "\"long\""
        }
       ],
       "type": "table"
      }
     },
     "output_type": "display_data"
    }
   ],
   "source": [
    "%sql\n",
    "-- Get the most sold products to identify the top-selling items.\n",
    "\n",
    "CREATE OR REPLACE TABLE gold.top_selling_products AS\n",
    "SELECT\n",
    "    product,\n",
    "    SUM(quantity) AS total_quantity_sold\n",
    "FROM silver.sales_transactions\n",
    "GROUP BY product\n",
    "ORDER BY total_quantity_sold DESC;\n",
    "\n",
    "select * from gold.top_selling_products;"
   ]
  },
  {
   "cell_type": "code",
   "execution_count": 0,
   "metadata": {
    "application/vnd.databricks.v1+cell": {
     "cellMetadata": {
      "byteLimit": 2048000,
      "implicitDf": true,
      "rowLimit": 10000
     },
     "inputWidgets": {},
     "nuid": "fb59fded-6cdb-4f3d-8de1-4d4655db4b89",
     "showTitle": false,
     "tableResultSettingsMap": {},
     "title": ""
    }
   },
   "outputs": [
    {
     "output_type": "display_data",
     "data": {
      "text/html": [
       "<style scoped>\n",
       "  .table-result-container {\n",
       "    max-height: 300px;\n",
       "    overflow: auto;\n",
       "  }\n",
       "  table, th, td {\n",
       "    border: 1px solid black;\n",
       "    border-collapse: collapse;\n",
       "  }\n",
       "  th, td {\n",
       "    padding: 5px;\n",
       "  }\n",
       "  th {\n",
       "    text-align: left;\n",
       "  }\n",
       "</style><div class='table-result-container'><table class='table-result'><thead style='background-color: white'><tr><th>name</th><th>total_franchises</th></tr></thead><tbody><tr><td>Coconut Grove</td><td>1</td></tr><tr><td>Maple Monarch</td><td>1</td></tr><tr><td>Sesame Seeds</td><td>1</td></tr><tr><td>Raisin Ranch</td><td>1</td></tr><tr><td>Ginger Gems</td><td>1</td></tr><tr><td>Cacao Wonders</td><td>1</td></tr><tr><td>Cinnamon Spice</td><td>1</td></tr><tr><td>Anise Acres</td><td>1</td></tr><tr><td>Honey Hives</td><td>1</td></tr><tr><td>Fennel Fields</td><td>1</td></tr><tr><td>Peanut Plantation</td><td>1</td></tr><tr><td>Cardamom Cove</td><td>1</td></tr><tr><td>Molasses Mills</td><td>1</td></tr><tr><td>Mace Meadows</td><td>1</td></tr><tr><td>Almond Delights</td><td>1</td></tr><tr><td>Clove Cliffs</td><td>1</td></tr><tr><td>Cocoa Crops</td><td>1</td></tr><tr><td>Vanilla Valley</td><td>1</td></tr><tr><td>Pistachio Palace</td><td>1</td></tr><tr><td>Pecan Pleasures</td><td>1</td></tr><tr><td>Poppy Peaks</td><td>1</td></tr><tr><td>Coffee Collective</td><td>1</td></tr><tr><td>Cashew Corner</td><td>1</td></tr><tr><td>Sugar Cane Harvest</td><td>1</td></tr><tr><td>Oat Oasis</td><td>1</td></tr><tr><td>Hazelnut Haven</td><td>1</td></tr><tr><td>Nutmeg Nirvana</td><td>1</td></tr></tbody></table></div>"
      ]
     },
     "metadata": {
      "application/vnd.databricks.v1+output": {
       "addedWidgets": {},
       "aggData": [],
       "aggError": "",
       "aggOverflow": false,
       "aggSchema": [],
       "aggSeriesLimitReached": false,
       "aggType": "",
       "arguments": {},
       "columnCustomDisplayInfos": {},
       "data": [
        [
         "Coconut Grove",
         1
        ],
        [
         "Maple Monarch",
         1
        ],
        [
         "Sesame Seeds",
         1
        ],
        [
         "Raisin Ranch",
         1
        ],
        [
         "Ginger Gems",
         1
        ],
        [
         "Cacao Wonders",
         1
        ],
        [
         "Cinnamon Spice",
         1
        ],
        [
         "Anise Acres",
         1
        ],
        [
         "Honey Hives",
         1
        ],
        [
         "Fennel Fields",
         1
        ],
        [
         "Peanut Plantation",
         1
        ],
        [
         "Cardamom Cove",
         1
        ],
        [
         "Molasses Mills",
         1
        ],
        [
         "Mace Meadows",
         1
        ],
        [
         "Almond Delights",
         1
        ],
        [
         "Clove Cliffs",
         1
        ],
        [
         "Cocoa Crops",
         1
        ],
        [
         "Vanilla Valley",
         1
        ],
        [
         "Pistachio Palace",
         1
        ],
        [
         "Pecan Pleasures",
         1
        ],
        [
         "Poppy Peaks",
         1
        ],
        [
         "Coffee Collective",
         1
        ],
        [
         "Cashew Corner",
         1
        ],
        [
         "Sugar Cane Harvest",
         1
        ],
        [
         "Oat Oasis",
         1
        ],
        [
         "Hazelnut Haven",
         1
        ],
        [
         "Nutmeg Nirvana",
         1
        ]
       ],
       "datasetInfos": [],
       "dbfsResultPath": null,
       "isJsonSchema": true,
       "metadata": {},
       "overflow": false,
       "plotOptions": {
        "customPlotOptions": {},
        "displayType": "table",
        "pivotAggregation": null,
        "pivotColumns": null,
        "xColumns": null,
        "yColumns": null
       },
       "removedWidgets": [],
       "schema": [
        {
         "metadata": "{}",
         "name": "name",
         "type": "\"string\""
        },
        {
         "metadata": "{}",
         "name": "total_franchises",
         "type": "\"long\""
        }
       ],
       "type": "table"
      }
     },
     "output_type": "display_data"
    }
   ],
   "source": [
    "%sql\n",
    "-- Find which suppliers provide ingredients to the most franchises.\n",
    "\n",
    "CREATE OR REPLACE TABLE gold.most_suppliers AS\n",
    "SELECT\n",
    "    sup.name,\n",
    "    COUNT(DISTINCT fs.franchiseID) AS total_franchises\n",
    "FROM silver.sales_franchises fs\n",
    "JOIN silver.sales_suppliers sup ON fs.supplierID = sup.supplierID\n",
    "GROUP BY sup.name\n",
    "ORDER BY total_franchises DESC;\n",
    "\n",
    "select * from gold.most_suppliers;"
   ]
  },
  {
   "cell_type": "code",
   "execution_count": 0,
   "metadata": {
    "application/vnd.databricks.v1+cell": {
     "cellMetadata": {
      "byteLimit": 2048000,
      "implicitDf": true,
      "rowLimit": 10000
     },
     "inputWidgets": {},
     "nuid": "eeac5e0e-2c18-4da4-9c4c-f305e6e1504d",
     "showTitle": false,
     "tableResultSettingsMap": {},
     "title": ""
    }
   },
   "outputs": [
    {
     "output_type": "display_data",
     "data": {
      "text/html": [
       "<style scoped>\n",
       "  .table-result-container {\n",
       "    max-height: 300px;\n",
       "    overflow: auto;\n",
       "  }\n",
       "  table, th, td {\n",
       "    border: 1px solid black;\n",
       "    border-collapse: collapse;\n",
       "  }\n",
       "  th, td {\n",
       "    padding: 5px;\n",
       "  }\n",
       "  th {\n",
       "    text-align: left;\n",
       "  }\n",
       "</style><div class='table-result-container'><table class='table-result'><thead style='background-color: white'><tr><th>sale_month</th><th>total_sales</th></tr></thead><tbody><tr><td>2024-05</td><td>66471</td></tr></tbody></table></div>"
      ]
     },
     "metadata": {
      "application/vnd.databricks.v1+output": {
       "addedWidgets": {},
       "aggData": [],
       "aggError": "",
       "aggOverflow": false,
       "aggSchema": [],
       "aggSeriesLimitReached": false,
       "aggType": "",
       "arguments": {},
       "columnCustomDisplayInfos": {},
       "data": [
        [
         "2024-05",
         66471
        ]
       ],
       "datasetInfos": [],
       "dbfsResultPath": null,
       "isJsonSchema": true,
       "metadata": {},
       "overflow": false,
       "plotOptions": {
        "customPlotOptions": {},
        "displayType": "table",
        "pivotAggregation": null,
        "pivotColumns": null,
        "xColumns": null,
        "yColumns": null
       },
       "removedWidgets": [],
       "schema": [
        {
         "metadata": "{}",
         "name": "sale_month",
         "type": "\"string\""
        },
        {
         "metadata": "{}",
         "name": "total_sales",
         "type": "\"long\""
        }
       ],
       "type": "table"
      }
     },
     "output_type": "display_data"
    }
   ],
   "source": [
    "%sql\n",
    "-- Get total sales per month.\n",
    "\n",
    "CREATE OR REPLACE TABLE gold.total_sales_per_month AS\n",
    "SELECT\n",
    "    DATE_FORMAT(dateTime, 'yyyy-MM') AS sale_month,\n",
    "    SUM(totalPrice) AS total_sales\n",
    "FROM silver.sales_transactions\n",
    "GROUP BY sale_month\n",
    "ORDER BY sale_month;\n",
    "\n",
    "select * from gold.total_sales_per_month;"
   ]
  }
 ],
 "metadata": {
  "application/vnd.databricks.v1+notebook": {
   "computePreferences": null,
   "dashboards": [],
   "environmentMetadata": {
    "base_environment": "",
    "environment_version": "1"
   },
   "inputWidgetPreferences": null,
   "language": "python",
   "notebookMetadata": {
    "mostRecentlyExecutedCommandWithImplicitDF": {
     "commandId": 2530760258463672,
     "dataframes": [
      "_sqldf"
     ]
    },
    "pythonIndentUnit": 4
   },
   "notebookName": "Databricks Assignment_updated",
   "widgets": {}
  }
 },
 "nbformat": 4,
 "nbformat_minor": 0
}